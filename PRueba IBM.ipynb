{
 "cells": [
  {
   "cell_type": "markdown",
   "metadata": {
    "collapsed": true
   },
   "source": [
    "# My Jupyter Notebook on IBM Watson Studio"
   ]
  },
  {
   "cell_type": "markdown",
   "metadata": {},
   "source": [
    "**John Alexander Sanchez Cardozo**\n",
    "\n",
    "Currently I'm working as a teacher and as researcher in a University in Colombia. However I'm interested in learning Data Science to find a new job."
   ]
  },
  {
   "cell_type": "markdown",
   "metadata": {},
   "source": [
    "*I'm pretty interested in ML models and, I want to improve my coding skills, that's why I want to learn Data Science and then apply to a new job or even my own entrepreneurship*"
   ]
  },
  {
   "cell_type": "markdown",
   "metadata": {},
   "source": [
    "### The following cell will receive a name, stored as and object and then print it"
   ]
  },
  {
   "cell_type": "code",
   "execution_count": 3,
   "metadata": {},
   "outputs": [
    {
     "name": "stdout",
     "output_type": "stream",
     "text": [
      "John Alexander Sánchez Cardozo\n"
     ]
    }
   ],
   "source": [
    "My_name = \"John Alexander Sánchez Cardozo\"\n",
    "print(My_name)"
   ]
  },
  {
   "cell_type": "markdown",
   "metadata": {},
   "source": [
    "---\n",
    "* line 1\n",
    "* line 2\n",
    "* line 3\n",
    "\n",
    "1. line 4\n",
    "2. line 3\n",
    "3. line 2\n",
    "4. line 1"
   ]
  }
 ],
 "metadata": {
  "kernelspec": {
   "display_name": "Python 3.9",
   "language": "python",
   "name": "python3"
  },
  "language_info": {
   "codemirror_mode": {
    "name": "ipython",
    "version": 3
   },
   "file_extension": ".py",
   "mimetype": "text/x-python",
   "name": "python",
   "nbconvert_exporter": "python",
   "pygments_lexer": "ipython3",
   "version": "3.9.13"
  }
 },
 "nbformat": 4,
 "nbformat_minor": 1
}
